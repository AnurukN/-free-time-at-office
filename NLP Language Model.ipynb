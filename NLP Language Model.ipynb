{
 "cells": [
  {
   "cell_type": "markdown",
   "metadata": {},
   "source": [
    "# ENG NLP 3GRAM"
   ]
  },
  {
   "cell_type": "code",
   "execution_count": 56,
   "metadata": {},
   "outputs": [
    {
     "name": "stderr",
     "output_type": "stream",
     "text": [
      "[nltk_data] Downloading package reuters to\n",
      "[nltk_data]     C:\\Users\\user.5CD8478FHW\\AppData\\Roaming\\nltk_data...\n",
      "[nltk_data]   Package reuters is already up-to-date!\n",
      "[nltk_data] Downloading package punkt to\n",
      "[nltk_data]     C:\\Users\\user.5CD8478FHW\\AppData\\Roaming\\nltk_data...\n",
      "[nltk_data]   Package punkt is already up-to-date!\n"
     ]
    },
    {
     "data": {
      "text/plain": [
       "True"
      ]
     },
     "execution_count": 56,
     "metadata": {},
     "output_type": "execute_result"
    }
   ],
   "source": [
    "# code courtesy of https://nlpforhackers.io/language-models/\n",
    "\n",
    "from nltk.corpus import reuters\n",
    "from nltk import bigrams, trigrams\n",
    "from collections import Counter, defaultdict\n",
    "\n",
    "import nltk\n",
    "nltk.download('reuters')\n",
    "nltk.download('punkt')"
   ]
  },
  {
   "cell_type": "code",
   "execution_count": 57,
   "metadata": {},
   "outputs": [],
   "source": [
    "# Create a placeholder for model\n",
    "model = defaultdict(lambda: defaultdict(lambda: 0))"
   ]
  },
  {
   "cell_type": "code",
   "execution_count": 58,
   "metadata": {},
   "outputs": [],
   "source": [
    "# Count frequency of co-occurance  \n",
    "for sentence in reuters.sents():\n",
    "    for w1, w2, w3 in trigrams(sentence, pad_right=True, pad_left=True):\n",
    "        model[(w1, w2)][w3] += 1"
   ]
  },
  {
   "cell_type": "code",
   "execution_count": 59,
   "metadata": {},
   "outputs": [],
   "source": [
    "# Let's transform the counts to probabilities\n",
    "for w1_w2 in model:\n",
    "    total_count = float(sum(model[w1_w2].values()))\n",
    "    for w3 in model[w1_w2]:\n",
    "        model[w1_w2][w3] /= total_count"
   ]
  },
  {
   "cell_type": "code",
   "execution_count": 60,
   "metadata": {},
   "outputs": [
    {
     "data": {
      "text/plain": [
       "{'public': 0.05555555555555555,\n",
       " 'European': 0.05555555555555555,\n",
       " 'Bank': 0.05555555555555555,\n",
       " 'price': 0.1111111111111111,\n",
       " 'emirate': 0.05555555555555555,\n",
       " 'overseas': 0.05555555555555555,\n",
       " 'newspaper': 0.05555555555555555,\n",
       " 'company': 0.16666666666666666,\n",
       " 'Turkish': 0.05555555555555555,\n",
       " 'increase': 0.05555555555555555,\n",
       " 'options': 0.05555555555555555,\n",
       " 'Higher': 0.05555555555555555,\n",
       " 'pound': 0.05555555555555555,\n",
       " 'Italian': 0.05555555555555555,\n",
       " 'time': 0.05555555555555555}"
      ]
     },
     "execution_count": 60,
     "metadata": {},
     "output_type": "execute_result"
    }
   ],
   "source": [
    "dict(model[\"today\",\"the\"])"
   ]
  },
  {
   "cell_type": "code",
   "execution_count": 61,
   "metadata": {},
   "outputs": [
    {
     "name": "stdout",
     "output_type": "stream",
     "text": [
      "today the newspaper report that it has completed the acquisition of Pacific Southwest takeover , from 300 mln dlrs in 1981 .\n"
     ]
    }
   ],
   "source": [
    "# code courtesy of https://nlpforhackers.io/language-models/\n",
    "\n",
    "import random\n",
    "\n",
    "# starting words\n",
    "text = [\"today\", \"the\"]\n",
    "sentence_finished = False\n",
    " \n",
    "while not sentence_finished:\n",
    "  # select a random probability threshold  \n",
    "  r = random.random()\n",
    "  accumulator = .0\n",
    "\n",
    "  for word in model[tuple(text[-2:])].keys():\n",
    "      accumulator += model[tuple(text[-2:])][word]\n",
    "      # select words that are above the probability threshold\n",
    "      if accumulator >= r:\n",
    "          text.append(word)\n",
    "          break\n",
    "\n",
    "  if text[-2:] == [None, None]:\n",
    "      sentence_finished = True\n",
    " \n",
    "print (' '.join([t for t in text if t]))"
   ]
  },
  {
   "cell_type": "markdown",
   "metadata": {},
   "source": [
    "# Deep learning\n",
    "\n",
    "https://www.analyticsvidhya.com/blog/2019/08/comprehensive-guide-language-model-nlp-python-code/"
   ]
  },
  {
   "cell_type": "code",
   "execution_count": 137,
   "metadata": {},
   "outputs": [
    {
     "name": "stderr",
     "output_type": "stream",
     "text": [
      "Using TensorFlow backend.\n",
      "D:\\ProgramData\\Anaconda3\\lib\\site-packages\\requests\\__init__.py:80: RequestsDependencyWarning: urllib3 (1.24.1) or chardet (3.0.4) doesn't match a supported version!\n",
      "  RequestsDependencyWarning)\n"
     ]
    }
   ],
   "source": [
    "import numpy as np\n",
    "import pandas as pd\n",
    "from keras.utils import to_categorical\n",
    "from keras.preprocessing.sequence import pad_sequences\n",
    "from keras.models import Sequential\n",
    "from keras.layers import LSTM, Dense, GRU, Embedding\n",
    "from keras.callbacks import EarlyStopping, ModelCheckpoint"
   ]
  },
  {
   "cell_type": "code",
   "execution_count": 138,
   "metadata": {},
   "outputs": [],
   "source": [
    "data_text = \"\"\"The unanimous Declaration of the thirteen united States of America, When in the Course of human events, it becomes necessary for one people to dissolve the political bands which have connected them with another, and to assume among the powers of the earth, the separate and equal station to which the Laws of Nature and of Nature's God entitle them, a decent respect to the opinions of mankind requires that they should declare the causes which impel them to the separation.\n",
    "\n",
    "We hold these truths to be self-evident, that all men are created equal, that they are endowed by their Creator with certain unalienable Rights, that among these are Life, Liberty and the pursuit of Happiness.--That to secure these rights, Governments are instituted among Men, deriving their just powers from the consent of the governed, --That whenever any Form of Government becomes destructive of these ends, it is the Right of the People to alter or to abolish it, and to institute new Government, laying its foundation on such principles and organizing its powers in such form, as to them shall seem most likely to effect their Safety and Happiness. Prudence, indeed, will dictate that Governments long established should not be changed for light and transient causes; and accordingly all experience hath shewn, that mankind are more disposed to suffer, while evils are sufferable, than to right themselves by abolishing the forms to which they are accustomed. But when a long train of abuses and usurpations, pursuing invariably the same Object evinces a design to reduce them under absolute Despotism, it is their right, it is their duty, to throw off such Government, and to provide new Guards for their future security.--Such has been the patient sufferance of these Colonies; and such is now the necessity which constrains them to alter their former Systems of Government. The history of the present King of Great Britain is a history of repeated injuries and usurpations, all having in direct object the establishment of an absolute Tyranny over these States. To prove this, let Facts be submitted to a candid world.\n",
    "\n",
    "He has refused his Assent to Laws, the most wholesome and necessary for the public good.\n",
    "\n",
    "He has forbidden his Governors to pass Laws of immediate and pressing importance, unless suspended in their operation till his Assent should be obtained; and when so suspended, he has utterly neglected to attend to them.\n",
    "\n",
    "He has refused to pass other Laws for the accommodation of large districts of people, unless those people would relinquish the right of Representation in the Legislature, a right inestimable to them and formidable to tyrants only.\n",
    "\n",
    "He has called together legislative bodies at places unusual, uncomfortable, and distant from the depository of their public Records, for the sole purpose of fatiguing them into compliance with his measures.\n",
    "\n",
    "He has dissolved Representative Houses repeatedly, for opposing with manly firmness his invasions on the rights of the people.\n",
    "\n",
    "He has refused for a long time, after such dissolutions, to cause others to be elected; whereby the Legislative powers, incapable of Annihilation, have returned to the People at large for their exercise; the State remaining in the mean time exposed to all the dangers of invasion from without, and convulsions within.\n",
    "\n",
    "He has endeavoured to prevent the population of these States; for that purpose obstructing the Laws for Naturalization of Foreigners; refusing to pass others to encourage their migrations hither, and raising the conditions of new Appropriations of Lands.\n",
    "\n",
    "He has obstructed the Administration of Justice, by refusing his Assent to Laws for establishing Judiciary powers.\n",
    "\n",
    "He has made Judges dependent on his Will alone, for the tenure of their offices, and the amount and payment of their salaries.\n",
    "\n",
    "He has erected a multitude of New Offices, and sent hither swarms of Officers to harrass our people, and eat out their substance.\n",
    "\n",
    "He has kept among us, in times of peace, Standing Armies without the Consent of our legislatures.\n",
    "\n",
    "He has affected to render the Military independent of and superior to the Civil power.\n",
    "\n",
    "He has combined with others to subject us to a jurisdiction foreign to our constitution, and unacknowledged by our laws; giving his Assent to their Acts of pretended Legislation:\n",
    "\n",
    "For Quartering large bodies of armed troops among us:\n",
    "\n",
    "For protecting them, by a mock Trial, from punishment for any Murders which they should commit on the Inhabitants of these States:\n",
    "\n",
    "For cutting off our Trade with all parts of the world:\n",
    "\n",
    "For imposing Taxes on us without our Consent:\n",
    "\n",
    "For depriving us in many cases, of the benefits of Trial by Jury:\n",
    "\n",
    "For transporting us beyond Seas to be tried for pretended offences\n",
    "\n",
    "For abolishing the free System of English Laws in a neighbouring Province, establishing therein an Arbitrary government, and enlarging its Boundaries so as to render it at once an example and fit instrument for introducing the same absolute rule into these Colonies:\n",
    "\n",
    "For taking away our Charters, abolishing our most valuable Laws, and altering fundamentally the Forms of our Governments:\n",
    "\n",
    "For suspending our own Legislatures, and declaring themselves invested with power to legislate for us in all cases whatsoever.\n",
    "\n",
    "He has abdicated Government here, by declaring us out of his Protection and waging War against us.\n",
    "\n",
    "He has plundered our seas, ravaged our Coasts, burnt our towns, and destroyed the lives of our people.\n",
    "\n",
    "He is at this time transporting large Armies of foreign Mercenaries to compleat the works of death, desolation and tyranny, already begun with circumstances of Cruelty & perfidy scarcely paralleled in the most barbarous ages, and totally unworthy the Head of a civilized nation.\n",
    "\n",
    "He has constrained our fellow Citizens taken Captive on the high Seas to bear Arms against their Country, to become the executioners of their friends and Brethren, or to fall themselves by their Hands.\n",
    "\n",
    "He has excited domestic insurrections amongst us, and has endeavoured to bring on the inhabitants of our frontiers, the merciless Indian Savages, whose known rule of warfare, is an undistinguished destruction of all ages, sexes and conditions.\n",
    "\n",
    "In every stage of these Oppressions We have Petitioned for Redress in the most humble terms: Our repeated Petitions have been answered only by repeated injury. A Prince whose character is thus marked by every act which may define a Tyrant, is unfit to be the ruler of a free people.\n",
    "\n",
    "Nor have We been wanting in attentions to our Brittish brethren. We have warned them from time to time of attempts by their legislature to extend an unwarrantable jurisdiction over us. We have reminded them of the circumstances of our emigration and settlement here. We have appealed to their native justice and magnanimity, and we have conjured them by the ties of our common kindred to disavow these usurpations, which, would inevitably interrupt our connections and correspondence. They too have been deaf to the voice of justice and of consanguinity. We must, therefore, acquiesce in the necessity, which denounces our Separation, and hold them, as we hold the rest of mankind, Enemies in War, in Peace Friends.\n",
    "\n",
    "We, therefore, the Representatives of the united States of America, in General Congress, Assembled, appealing to the Supreme Judge of the world for the rectitude of our intentions, do, in the Name, and by Authority of the good People of these Colonies, solemnly publish and declare, That these United Colonies are, and of Right ought to be Free and Independent States; that they are Absolved from all Allegiance to the British Crown, and that all political connection between them and the State of Great Britain, is and ought to be totally dissolved; and that as Free and Independent States, they have full Power to levy War, conclude Peace, contract Alliances, establish Commerce, and to do all other Acts and Things which Independent States may of right do. And for the support of this Declaration, with a firm reliance on the protection of divine Providence, we mutually pledge to each other our Lives, our Fortunes and our sacred Honor.\"\"\""
   ]
  },
  {
   "cell_type": "code",
   "execution_count": 139,
   "metadata": {},
   "outputs": [],
   "source": [
    "import re\n",
    "\n",
    "def text_cleaner(text):\n",
    "    # lower case text\n",
    "    newString = text.lower()\n",
    "    newString = re.sub(r\"'s\\b\",\"\",newString)\n",
    "    # remove punctuations\n",
    "    newString = re.sub(\"[^a-zA-Z]\", \" \", newString) \n",
    "    long_words=[]\n",
    "    # remove short word\n",
    "    for i in newString.split():\n",
    "        if len(i)>=3:                  \n",
    "            long_words.append(i)\n",
    "    return (\" \".join(long_words)).strip()\n",
    "\n",
    "# preprocess the text\n",
    "data_new = text_cleaner(data_text)"
   ]
  },
  {
   "cell_type": "code",
   "execution_count": 140,
   "metadata": {},
   "outputs": [
    {
     "name": "stdout",
     "output_type": "stream",
     "text": [
      "Total Sequences: 7052\n"
     ]
    }
   ],
   "source": [
    "def create_seq(text):\n",
    "    length = 30\n",
    "    sequences = list()\n",
    "    for i in range(length, len(text)):\n",
    "        # select sequence of tokens\n",
    "        seq = text[i-length:i+1]\n",
    "        # store\n",
    "        sequences.append(seq)\n",
    "    print('Total Sequences: %d' % len(sequences))\n",
    "    return sequences\n",
    "\n",
    "# create sequences   \n",
    "sequences = create_seq(data_new)"
   ]
  },
  {
   "cell_type": "code",
   "execution_count": 141,
   "metadata": {},
   "outputs": [],
   "source": [
    "# create a character mapping index\n",
    "chars = sorted(list(set(data_new)))\n",
    "mapping = dict((c, i) for i, c in enumerate(chars))\n",
    "\n",
    "def encode_seq(seq):\n",
    "    sequences = list()\n",
    "    for line in seq:\n",
    "        # integer encode line\n",
    "        encoded_seq = [mapping[char] for char in line]\n",
    "        # store\n",
    "        sequences.append(encoded_seq)\n",
    "    return sequences\n",
    "\n",
    "# encode the sequences\n",
    "sequences = encode_seq(sequences)"
   ]
  },
  {
   "cell_type": "code",
   "execution_count": 142,
   "metadata": {},
   "outputs": [
    {
     "name": "stdout",
     "output_type": "stream",
     "text": [
      "Train shape: (6346, 30) Val shape: (706, 30)\n"
     ]
    }
   ],
   "source": [
    "from sklearn.model_selection import train_test_split\n",
    "\n",
    "# vocabulary size\n",
    "vocab = len(mapping)\n",
    "sequences = np.array(sequences)\n",
    "# create X and y\n",
    "X, y = sequences[:,:-1], sequences[:,-1]\n",
    "# one hot encode y\n",
    "y = to_categorical(y, num_classes=vocab)\n",
    "# create train and validation sets\n",
    "X_tr, X_val, y_tr, y_val = train_test_split(X, y, test_size=0.1, random_state=42)\n",
    "\n",
    "print('Train shape:', X_tr.shape, 'Val shape:', X_val.shape)"
   ]
  },
  {
   "cell_type": "code",
   "execution_count": 143,
   "metadata": {},
   "outputs": [
    {
     "name": "stderr",
     "output_type": "stream",
     "text": [
      "WARNING: Logging before flag parsing goes to stderr.\n",
      "W0813 17:02:12.836812 41048 deprecation_wrapper.py:119] From D:\\ProgramData\\Anaconda3\\lib\\site-packages\\keras\\backend\\tensorflow_backend.py:74: The name tf.get_default_graph is deprecated. Please use tf.compat.v1.get_default_graph instead.\n",
      "\n",
      "W0813 17:03:03.124551 41048 deprecation_wrapper.py:119] From D:\\ProgramData\\Anaconda3\\lib\\site-packages\\keras\\backend\\tensorflow_backend.py:517: The name tf.placeholder is deprecated. Please use tf.compat.v1.placeholder instead.\n",
      "\n",
      "W0813 17:03:03.128562 41048 deprecation_wrapper.py:119] From D:\\ProgramData\\Anaconda3\\lib\\site-packages\\keras\\backend\\tensorflow_backend.py:4138: The name tf.random_uniform is deprecated. Please use tf.random.uniform instead.\n",
      "\n",
      "W0813 17:03:03.314688 41048 deprecation_wrapper.py:119] From D:\\ProgramData\\Anaconda3\\lib\\site-packages\\keras\\backend\\tensorflow_backend.py:133: The name tf.placeholder_with_default is deprecated. Please use tf.compat.v1.placeholder_with_default instead.\n",
      "\n",
      "W0813 17:03:03.322667 41048 deprecation.py:506] From D:\\ProgramData\\Anaconda3\\lib\\site-packages\\keras\\backend\\tensorflow_backend.py:3445: calling dropout (from tensorflow.python.ops.nn_ops) with keep_prob is deprecated and will be removed in a future version.\n",
      "Instructions for updating:\n",
      "Please use `rate` instead of `keep_prob`. Rate should be set to `rate = 1 - keep_prob`.\n",
      "W0813 17:03:03.482663 41048 deprecation_wrapper.py:119] From D:\\ProgramData\\Anaconda3\\lib\\site-packages\\keras\\optimizers.py:790: The name tf.train.Optimizer is deprecated. Please use tf.compat.v1.train.Optimizer instead.\n",
      "\n",
      "W0813 17:03:03.507649 41048 deprecation_wrapper.py:119] From D:\\ProgramData\\Anaconda3\\lib\\site-packages\\keras\\backend\\tensorflow_backend.py:3295: The name tf.log is deprecated. Please use tf.math.log instead.\n",
      "\n",
      "W0813 17:03:03.581679 41048 deprecation.py:323] From D:\\ProgramData\\Anaconda3\\lib\\site-packages\\tensorflow\\python\\ops\\math_grad.py:1250: add_dispatch_support.<locals>.wrapper (from tensorflow.python.ops.array_ops) is deprecated and will be removed in a future version.\n",
      "Instructions for updating:\n",
      "Use tf.where in 2.0, which has the same broadcast rule as np.where\n"
     ]
    },
    {
     "name": "stdout",
     "output_type": "stream",
     "text": [
      "_________________________________________________________________\n",
      "Layer (type)                 Output Shape              Param #   \n",
      "=================================================================\n",
      "embedding_1 (Embedding)      (None, 30, 50)            1350      \n",
      "_________________________________________________________________\n",
      "gru_1 (GRU)                  (None, 150)               90450     \n",
      "_________________________________________________________________\n",
      "dense_1 (Dense)              (None, 27)                4077      \n",
      "=================================================================\n",
      "Total params: 95,877\n",
      "Trainable params: 95,877\n",
      "Non-trainable params: 0\n",
      "_________________________________________________________________\n",
      "None\n",
      "Train on 6346 samples, validate on 706 samples\n",
      "Epoch 1/100\n",
      " - 7s - loss: 2.7448 - acc: 0.2077 - val_loss: 2.3826 - val_acc: 0.3088\n",
      "Epoch 2/100\n",
      " - 6s - loss: 2.2920 - acc: 0.3298 - val_loss: 2.2395 - val_acc: 0.3428\n",
      "Epoch 3/100\n",
      " - 7s - loss: 2.1609 - acc: 0.3626 - val_loss: 2.1471 - val_acc: 0.3739\n",
      "Epoch 4/100\n",
      " - 7s - loss: 2.0575 - acc: 0.3854 - val_loss: 2.0634 - val_acc: 0.4093\n",
      "Epoch 5/100\n",
      " - 7s - loss: 1.9734 - acc: 0.4188 - val_loss: 2.0246 - val_acc: 0.4207\n",
      "Epoch 6/100\n",
      " - 7s - loss: 1.9025 - acc: 0.4242 - val_loss: 1.9927 - val_acc: 0.4122\n",
      "Epoch 7/100\n",
      " - 7s - loss: 1.8260 - acc: 0.4483 - val_loss: 1.9760 - val_acc: 0.4278\n",
      "Epoch 8/100\n",
      " - 7s - loss: 1.7613 - acc: 0.4688 - val_loss: 1.9336 - val_acc: 0.4603\n",
      "Epoch 9/100\n",
      " - 7s - loss: 1.6837 - acc: 0.4861 - val_loss: 1.9061 - val_acc: 0.4731\n",
      "Epoch 10/100\n",
      " - 7s - loss: 1.6189 - acc: 0.5148 - val_loss: 1.8802 - val_acc: 0.4589\n",
      "Epoch 11/100\n",
      " - 7s - loss: 1.5545 - acc: 0.5282 - val_loss: 1.8797 - val_acc: 0.4802\n",
      "Epoch 12/100\n",
      " - 7s - loss: 1.4882 - acc: 0.5482 - val_loss: 1.8639 - val_acc: 0.4731\n",
      "Epoch 13/100\n",
      " - 7s - loss: 1.4347 - acc: 0.5602 - val_loss: 1.8867 - val_acc: 0.4759\n",
      "Epoch 14/100\n",
      " - 7s - loss: 1.3685 - acc: 0.5756 - val_loss: 1.8998 - val_acc: 0.4632\n",
      "Epoch 15/100\n",
      " - 6s - loss: 1.3138 - acc: 0.5941 - val_loss: 1.8885 - val_acc: 0.5000\n",
      "Epoch 16/100\n",
      " - 7s - loss: 1.2595 - acc: 0.6105 - val_loss: 1.9004 - val_acc: 0.4929\n",
      "Epoch 17/100\n",
      " - 7s - loss: 1.2153 - acc: 0.6205 - val_loss: 1.8907 - val_acc: 0.4929\n",
      "Epoch 18/100\n",
      " - 7s - loss: 1.1697 - acc: 0.6346 - val_loss: 1.9141 - val_acc: 0.4943\n",
      "Epoch 19/100\n",
      " - 7s - loss: 1.1239 - acc: 0.6533 - val_loss: 1.9218 - val_acc: 0.4972\n",
      "Epoch 20/100\n",
      " - 7s - loss: 1.0929 - acc: 0.6606 - val_loss: 1.9532 - val_acc: 0.4873\n",
      "Epoch 21/100\n",
      " - 7s - loss: 1.0457 - acc: 0.6729 - val_loss: 1.9716 - val_acc: 0.4830\n",
      "Epoch 22/100\n",
      " - 6s - loss: 1.0044 - acc: 0.6822 - val_loss: 1.9917 - val_acc: 0.4887\n",
      "Epoch 23/100\n",
      " - 6s - loss: 0.9588 - acc: 0.6998 - val_loss: 2.0287 - val_acc: 0.4745\n",
      "Epoch 24/100\n",
      " - 7s - loss: 0.9400 - acc: 0.7113 - val_loss: 2.0247 - val_acc: 0.4873\n",
      "Epoch 25/100\n",
      " - 7s - loss: 0.9132 - acc: 0.7121 - val_loss: 2.0431 - val_acc: 0.4915\n",
      "Epoch 26/100\n",
      " - 6s - loss: 0.8815 - acc: 0.7130 - val_loss: 2.0543 - val_acc: 0.4972\n",
      "Epoch 27/100\n",
      " - 7s - loss: 0.8618 - acc: 0.7271 - val_loss: 2.0638 - val_acc: 0.5042\n",
      "Epoch 28/100\n",
      " - 7s - loss: 0.8456 - acc: 0.7348 - val_loss: 2.1114 - val_acc: 0.4802\n",
      "Epoch 29/100\n",
      " - 6s - loss: 0.8015 - acc: 0.7490 - val_loss: 2.1434 - val_acc: 0.4759\n",
      "Epoch 30/100\n",
      " - 6s - loss: 0.7884 - acc: 0.7532 - val_loss: 2.1535 - val_acc: 0.4929\n",
      "Epoch 31/100\n",
      " - 7s - loss: 0.7683 - acc: 0.7589 - val_loss: 2.1696 - val_acc: 0.4929\n",
      "Epoch 32/100\n",
      " - 7s - loss: 0.7445 - acc: 0.7652 - val_loss: 2.1879 - val_acc: 0.4773\n",
      "Epoch 33/100\n",
      " - 7s - loss: 0.7262 - acc: 0.7649 - val_loss: 2.2171 - val_acc: 0.4915\n",
      "Epoch 34/100\n",
      " - 6s - loss: 0.6952 - acc: 0.7777 - val_loss: 2.2517 - val_acc: 0.4887\n",
      "Epoch 35/100\n",
      " - 7s - loss: 0.6841 - acc: 0.7816 - val_loss: 2.3055 - val_acc: 0.4788\n",
      "Epoch 36/100\n",
      " - 7s - loss: 0.6755 - acc: 0.7881 - val_loss: 2.2986 - val_acc: 0.4943\n",
      "Epoch 37/100\n",
      " - 6s - loss: 0.6621 - acc: 0.7868 - val_loss: 2.3529 - val_acc: 0.4816\n",
      "Epoch 38/100\n",
      " - 7s - loss: 0.6316 - acc: 0.7959 - val_loss: 2.3563 - val_acc: 0.4788\n",
      "Epoch 39/100\n",
      " - 7s - loss: 0.6269 - acc: 0.7958 - val_loss: 2.3801 - val_acc: 0.4830\n",
      "Epoch 40/100\n",
      " - 6s - loss: 0.6070 - acc: 0.7992 - val_loss: 2.4541 - val_acc: 0.4745\n",
      "Epoch 41/100\n",
      " - 6s - loss: 0.6011 - acc: 0.8063 - val_loss: 2.4336 - val_acc: 0.4830\n",
      "Epoch 42/100\n",
      " - 7s - loss: 0.5813 - acc: 0.8134 - val_loss: 2.4541 - val_acc: 0.4759\n",
      "Epoch 43/100\n",
      " - 7s - loss: 0.5824 - acc: 0.8081 - val_loss: 2.4555 - val_acc: 0.4788\n",
      "Epoch 44/100\n",
      " - 6s - loss: 0.5614 - acc: 0.8204 - val_loss: 2.4768 - val_acc: 0.4731\n",
      "Epoch 45/100\n",
      " - 7s - loss: 0.5555 - acc: 0.8175 - val_loss: 2.4905 - val_acc: 0.4688\n",
      "Epoch 46/100\n",
      " - 7s - loss: 0.5461 - acc: 0.8215 - val_loss: 2.4981 - val_acc: 0.4717\n",
      "Epoch 47/100\n",
      " - 7s - loss: 0.5421 - acc: 0.8251 - val_loss: 2.5064 - val_acc: 0.4759\n",
      "Epoch 48/100\n",
      " - 7s - loss: 0.5269 - acc: 0.8259 - val_loss: 2.5515 - val_acc: 0.4688\n",
      "Epoch 49/100\n",
      " - 6s - loss: 0.5352 - acc: 0.8292 - val_loss: 2.5412 - val_acc: 0.4816\n",
      "Epoch 50/100\n",
      " - 7s - loss: 0.5082 - acc: 0.8393 - val_loss: 2.5323 - val_acc: 0.4759\n",
      "Epoch 51/100\n",
      " - 7s - loss: 0.5182 - acc: 0.8293 - val_loss: 2.5937 - val_acc: 0.4816\n",
      "Epoch 52/100\n",
      " - 7s - loss: 0.5099 - acc: 0.8309 - val_loss: 2.5834 - val_acc: 0.4660\n",
      "Epoch 53/100\n",
      " - 7s - loss: 0.4911 - acc: 0.8402 - val_loss: 2.6159 - val_acc: 0.4745\n",
      "Epoch 54/100\n",
      " - 7s - loss: 0.4945 - acc: 0.8377 - val_loss: 2.6271 - val_acc: 0.4717\n",
      "Epoch 55/100\n",
      " - 6s - loss: 0.4787 - acc: 0.8371 - val_loss: 2.6375 - val_acc: 0.4717\n",
      "Epoch 56/100\n",
      " - 8s - loss: 0.4821 - acc: 0.8385 - val_loss: 2.6627 - val_acc: 0.4703\n",
      "Epoch 57/100\n",
      " - 8s - loss: 0.4727 - acc: 0.8424 - val_loss: 2.6970 - val_acc: 0.4660\n",
      "Epoch 58/100\n",
      " - 8s - loss: 0.4566 - acc: 0.8508 - val_loss: 2.7265 - val_acc: 0.4731\n",
      "Epoch 59/100\n",
      " - 7s - loss: 0.4636 - acc: 0.8419 - val_loss: 2.7014 - val_acc: 0.4816\n",
      "Epoch 60/100\n",
      " - 7s - loss: 0.4445 - acc: 0.8531 - val_loss: 2.7232 - val_acc: 0.4788\n",
      "Epoch 61/100\n",
      " - 7s - loss: 0.4515 - acc: 0.8511 - val_loss: 2.7453 - val_acc: 0.4802\n",
      "Epoch 62/100\n",
      " - 8s - loss: 0.4445 - acc: 0.8525 - val_loss: 2.8050 - val_acc: 0.4688\n",
      "Epoch 63/100\n",
      " - 7s - loss: 0.4430 - acc: 0.8558 - val_loss: 2.8104 - val_acc: 0.4745\n",
      "Epoch 64/100\n",
      " - 7s - loss: 0.4287 - acc: 0.8546 - val_loss: 2.8229 - val_acc: 0.4646\n",
      "Epoch 65/100\n",
      " - 7s - loss: 0.4298 - acc: 0.8564 - val_loss: 2.8012 - val_acc: 0.4731\n",
      "Epoch 66/100\n",
      " - 6s - loss: 0.4281 - acc: 0.8561 - val_loss: 2.8321 - val_acc: 0.4745\n",
      "Epoch 67/100\n",
      " - 6s - loss: 0.4005 - acc: 0.8722 - val_loss: 2.8937 - val_acc: 0.4632\n",
      "Epoch 68/100\n",
      " - 7s - loss: 0.4244 - acc: 0.8634 - val_loss: 2.8323 - val_acc: 0.4816\n",
      "Epoch 69/100\n",
      " - 6s - loss: 0.4181 - acc: 0.8590 - val_loss: 2.8654 - val_acc: 0.4844\n",
      "Epoch 70/100\n",
      " - 6s - loss: 0.3911 - acc: 0.8755 - val_loss: 2.8847 - val_acc: 0.4802\n",
      "Epoch 71/100\n",
      " - 7s - loss: 0.3975 - acc: 0.8705 - val_loss: 2.8888 - val_acc: 0.4731\n",
      "Epoch 72/100\n",
      " - 7s - loss: 0.4022 - acc: 0.8665 - val_loss: 2.9383 - val_acc: 0.4646\n",
      "Epoch 73/100\n",
      " - 6s - loss: 0.3887 - acc: 0.8697 - val_loss: 2.9457 - val_acc: 0.4674\n",
      "Epoch 74/100\n",
      " - 6s - loss: 0.4017 - acc: 0.8664 - val_loss: 2.9993 - val_acc: 0.4547\n",
      "Epoch 75/100\n",
      " - 7s - loss: 0.3846 - acc: 0.8739 - val_loss: 3.0004 - val_acc: 0.4703\n",
      "Epoch 76/100\n",
      " - 7s - loss: 0.3848 - acc: 0.8725 - val_loss: 3.0098 - val_acc: 0.4703\n",
      "Epoch 77/100\n",
      " - 7s - loss: 0.3882 - acc: 0.8683 - val_loss: 3.0422 - val_acc: 0.4703\n",
      "Epoch 78/100\n",
      " - 7s - loss: 0.3893 - acc: 0.8678 - val_loss: 2.9946 - val_acc: 0.4773\n",
      "Epoch 79/100\n",
      " - 7s - loss: 0.3758 - acc: 0.8755 - val_loss: 3.0280 - val_acc: 0.4802\n",
      "Epoch 80/100\n",
      " - 7s - loss: 0.3651 - acc: 0.8727 - val_loss: 3.0875 - val_acc: 0.4632\n",
      "Epoch 81/100\n",
      " - 6s - loss: 0.3718 - acc: 0.8783 - val_loss: 3.0415 - val_acc: 0.4646\n",
      "Epoch 82/100\n",
      " - 6s - loss: 0.3646 - acc: 0.8823 - val_loss: 3.0604 - val_acc: 0.4518\n",
      "Epoch 83/100\n",
      " - 7s - loss: 0.3708 - acc: 0.8750 - val_loss: 3.0886 - val_acc: 0.4660\n",
      "Epoch 84/100\n",
      " - 6s - loss: 0.3622 - acc: 0.8785 - val_loss: 3.1005 - val_acc: 0.4632\n",
      "Epoch 85/100\n",
      " - 6s - loss: 0.3627 - acc: 0.8760 - val_loss: 3.1271 - val_acc: 0.4561\n",
      "Epoch 86/100\n",
      " - 7s - loss: 0.3596 - acc: 0.8793 - val_loss: 3.0860 - val_acc: 0.4589\n",
      "Epoch 87/100\n",
      " - 7s - loss: 0.3586 - acc: 0.8804 - val_loss: 3.1529 - val_acc: 0.4688\n",
      "Epoch 88/100\n",
      " - 6s - loss: 0.3440 - acc: 0.8839 - val_loss: 3.1484 - val_acc: 0.4561\n"
     ]
    },
    {
     "name": "stdout",
     "output_type": "stream",
     "text": [
      "Epoch 89/100\n",
      " - 7s - loss: 0.3616 - acc: 0.8793 - val_loss: 3.1767 - val_acc: 0.4674\n",
      "Epoch 90/100\n",
      " - 7s - loss: 0.3545 - acc: 0.8804 - val_loss: 3.2141 - val_acc: 0.4533\n",
      "Epoch 91/100\n",
      " - 7s - loss: 0.3711 - acc: 0.8722 - val_loss: 3.1960 - val_acc: 0.4547\n",
      "Epoch 92/100\n",
      " - 7s - loss: 0.3444 - acc: 0.8861 - val_loss: 3.1813 - val_acc: 0.4504\n",
      "Epoch 93/100\n",
      " - 7s - loss: 0.3652 - acc: 0.8766 - val_loss: 3.1490 - val_acc: 0.4518\n",
      "Epoch 94/100\n",
      " - 7s - loss: 0.3540 - acc: 0.8793 - val_loss: 3.1916 - val_acc: 0.4618\n",
      "Epoch 95/100\n",
      " - 6s - loss: 0.3649 - acc: 0.8763 - val_loss: 3.1712 - val_acc: 0.4632\n",
      "Epoch 96/100\n",
      " - 6s - loss: 0.3353 - acc: 0.8897 - val_loss: 3.1931 - val_acc: 0.4561\n",
      "Epoch 97/100\n",
      " - 7s - loss: 0.3557 - acc: 0.8813 - val_loss: 3.1333 - val_acc: 0.4646\n",
      "Epoch 98/100\n",
      " - 7s - loss: 0.3355 - acc: 0.8867 - val_loss: 3.1906 - val_acc: 0.4547\n",
      "Epoch 99/100\n",
      " - 6s - loss: 0.3393 - acc: 0.8848 - val_loss: 3.1964 - val_acc: 0.4504\n",
      "Epoch 100/100\n",
      " - 6s - loss: 0.3378 - acc: 0.8894 - val_loss: 3.1900 - val_acc: 0.4589\n"
     ]
    },
    {
     "data": {
      "text/plain": [
       "<keras.callbacks.History at 0x23515196128>"
      ]
     },
     "execution_count": 143,
     "metadata": {},
     "output_type": "execute_result"
    }
   ],
   "source": [
    "# define model\n",
    "model = Sequential()\n",
    "model.add(Embedding(vocab, 50, input_length=30, trainable=True))\n",
    "model.add(GRU(150, recurrent_dropout=0.1, dropout=0.1))\n",
    "model.add(Dense(vocab, activation='softmax'))\n",
    "print(model.summary())\n",
    "\n",
    "# compile the model\n",
    "model.compile(loss='categorical_crossentropy', metrics=['acc'], optimizer='adam')\n",
    "# fit the model\n",
    "model.fit(X_tr, y_tr, epochs=100, verbose=2, validation_data=(X_val, y_val))"
   ]
  },
  {
   "cell_type": "code",
   "execution_count": 144,
   "metadata": {},
   "outputs": [],
   "source": [
    "# generate a sequence of characters with a language model\n",
    "def generate_seq(model, mapping, seq_length, seed_text, n_chars):\n",
    "\tin_text = seed_text\n",
    "\t# generate a fixed number of characters\n",
    "\tfor _ in range(n_chars):\n",
    "\t\t# encode the characters as integers\n",
    "\t\tencoded = [mapping[char] for char in in_text]\n",
    "\t\t# truncate sequences to a fixed length\n",
    "\t\tencoded = pad_sequences([encoded], maxlen=seq_length, truncating='pre')\n",
    "\t\t# predict character\n",
    "\t\tyhat = model.predict_classes(encoded, verbose=0)\n",
    "\t\t# reverse map integer to character\n",
    "\t\tout_char = ''\n",
    "\t\tfor char, index in mapping.items():\n",
    "\t\t\tif index == yhat:\n",
    "\t\t\t\tout_char = char\n",
    "\t\t\t\tbreak\n",
    "\t\t# append to input\n",
    "\t\tin_text += char\n",
    "\treturn in_text"
   ]
  },
  {
   "cell_type": "code",
   "execution_count": 152,
   "metadata": {},
   "outputs": [
    {
     "name": "stdout",
     "output_type": "stream",
     "text": [
      "large armies without our consent for depriving man absolved from all allegiances design reduce them under abolishing the free system english laws neighbourictrede\n"
     ]
    }
   ],
   "source": [
    "inp = 'large armies'\n",
    "print(generate_seq(model, mapping, 30,inp.lower(), 150))"
   ]
  },
  {
   "cell_type": "markdown",
   "metadata": {},
   "source": [
    "# THAI NLP 3GRAM"
   ]
  },
  {
   "cell_type": "code",
   "execution_count": 62,
   "metadata": {},
   "outputs": [],
   "source": [
    "import pandas as pd\n",
    "import numpy as np\n",
    "\n",
    "thai3gram = pd.read_csv('C:/Users/user.5CD8478FHW/Desktop/Test everything/201705_3gram.txt', sep='\\\\t', engine='python', names = ['first_word','second_word','third_word','f'])"
   ]
  },
  {
   "cell_type": "code",
   "execution_count": 63,
   "metadata": {},
   "outputs": [],
   "source": [
    "thai3gram['f'] = thai3gram['f']/thai3gram.f.sum()"
   ]
  },
  {
   "cell_type": "code",
   "execution_count": 64,
   "metadata": {},
   "outputs": [
    {
     "data": {
      "text/html": [
       "<div>\n",
       "<style scoped>\n",
       "    .dataframe tbody tr th:only-of-type {\n",
       "        vertical-align: middle;\n",
       "    }\n",
       "\n",
       "    .dataframe tbody tr th {\n",
       "        vertical-align: top;\n",
       "    }\n",
       "\n",
       "    .dataframe thead th {\n",
       "        text-align: right;\n",
       "    }\n",
       "</style>\n",
       "<table border=\"1\" class=\"dataframe\">\n",
       "  <thead>\n",
       "    <tr style=\"text-align: right;\">\n",
       "      <th></th>\n",
       "      <th>first_word</th>\n",
       "      <th>second_word</th>\n",
       "      <th>third_word</th>\n",
       "      <th>f</th>\n",
       "    </tr>\n",
       "  </thead>\n",
       "  <tbody>\n",
       "    <tr>\n",
       "      <th>0</th>\n",
       "      <td>&lt;s/&gt;</td>\n",
       "      <td>ๆ</td>\n",
       "      <td>&lt;s/&gt;</td>\n",
       "      <td>0.002055</td>\n",
       "    </tr>\n",
       "    <tr>\n",
       "      <th>1</th>\n",
       "      <td>&lt;s/&gt;</td>\n",
       "      <td>เช่น</td>\n",
       "      <td>&lt;s/&gt;</td>\n",
       "      <td>0.001020</td>\n",
       "    </tr>\n",
       "    <tr>\n",
       "      <th>2</th>\n",
       "      <td>&lt;s/&gt;</td>\n",
       "      <td>&lt;s/&gt;</td>\n",
       "      <td>&lt;s/&gt;</td>\n",
       "      <td>0.000850</td>\n",
       "    </tr>\n",
       "    <tr>\n",
       "      <th>3</th>\n",
       "      <td>ต่าง</td>\n",
       "      <td>ๆ</td>\n",
       "      <td>&lt;s/&gt;</td>\n",
       "      <td>0.000687</td>\n",
       "    </tr>\n",
       "    <tr>\n",
       "      <th>4</th>\n",
       "      <td>&lt;s/&gt;</td>\n",
       "      <td>คือ</td>\n",
       "      <td>&lt;s/&gt;</td>\n",
       "      <td>0.000630</td>\n",
       "    </tr>\n",
       "    <tr>\n",
       "      <th>5</th>\n",
       "      <td>&lt;s/&gt;</td>\n",
       "      <td>และ</td>\n",
       "      <td>&lt;s/&gt;</td>\n",
       "      <td>0.000554</td>\n",
       "    </tr>\n",
       "    <tr>\n",
       "      <th>6</th>\n",
       "      <td>&lt;s/&gt;</td>\n",
       "      <td>ปี</td>\n",
       "      <td>&lt;s/&gt;</td>\n",
       "      <td>0.000503</td>\n",
       "    </tr>\n",
       "    <tr>\n",
       "      <th>7</th>\n",
       "      <td>ไม่</td>\n",
       "      <td>ได้</td>\n",
       "      <td>&lt;s/&gt;</td>\n",
       "      <td>0.000488</td>\n",
       "    </tr>\n",
       "    <tr>\n",
       "      <th>8</th>\n",
       "      <td>ต่าง</td>\n",
       "      <td>&lt;s/&gt;</td>\n",
       "      <td>ๆ</td>\n",
       "      <td>0.000483</td>\n",
       "    </tr>\n",
       "    <tr>\n",
       "      <th>9</th>\n",
       "      <td>&lt;s/&gt;</td>\n",
       "      <td>พ.ศ.</td>\n",
       "      <td>&lt;s/&gt;</td>\n",
       "      <td>0.000451</td>\n",
       "    </tr>\n",
       "  </tbody>\n",
       "</table>\n",
       "</div>"
      ],
      "text/plain": [
       "  first_word second_word third_word         f\n",
       "0       <s/>           ๆ       <s/>  0.002055\n",
       "1       <s/>        เช่น       <s/>  0.001020\n",
       "2       <s/>        <s/>       <s/>  0.000850\n",
       "3       ต่าง           ๆ       <s/>  0.000687\n",
       "4       <s/>         คือ       <s/>  0.000630\n",
       "5       <s/>         และ       <s/>  0.000554\n",
       "6       <s/>          ปี       <s/>  0.000503\n",
       "7        ไม่         ได้       <s/>  0.000488\n",
       "8       ต่าง        <s/>          ๆ  0.000483\n",
       "9       <s/>        พ.ศ.       <s/>  0.000451"
      ]
     },
     "execution_count": 64,
     "metadata": {},
     "output_type": "execute_result"
    }
   ],
   "source": [
    "thai3gram.head(10)"
   ]
  },
  {
   "cell_type": "code",
   "execution_count": 136,
   "metadata": {},
   "outputs": [
    {
     "name": "stdout",
     "output_type": "stream",
     "text": [
      "ช่วง การ ผลิต ผลผลิต การ เกษตร ด้วย <s/> มิฉะนั้น ก็ ต้อง ทำงาน กัน <s/> คน ให้ มี คุณธรรม และ ความ ซื่อสัตย์ ของ คน หมู่ มาก หรือ น้อย เกินไป <s/> พอ เรือ ลอย <s/> แต่ โชคร้าย ที่ เธอ ควร จะ ได้รับ เงิน สนับสนุน จาก ประชาชน ทั่ว ประเทศ ที่ รับ ฟัง ใน ตอน กลางคืน และ สูบ บุหรี่ เป็น ประจำ อยู่ ตาม กล้ามเนื้อ <s/> มัน ได้ ใน ตำแหน่ง ใด <s/> ไม่ เครียด กับ งาน <s/> แต่ ประธานาธิบดี เอส ตรา ดา ได้ แต่ ยิ้ม อย่าง อ่อนโยน เมื่อ อยู่ ๆ <s/> ผ่าน การ สอบ แข่งขัน <s/> และ ไม้ ดอกไม้ ประดับ และ ปลา บู่ <s/> ปลา สลิด <s/>\n"
     ]
    }
   ],
   "source": [
    "import random\n",
    "\n",
    "# starting words\n",
    "text = [\"ช่วง\", \"การ\"]\n",
    "i= 0\n",
    "sentence_finished = False\n",
    "while not sentence_finished:\n",
    "  # select a random probability threshold  \n",
    "    r = random.randint(1, 100)\n",
    "    buff = thai3gram.loc[(thai3gram['first_word'] == text[i]) & (thai3gram['second_word'] == text[i+1]) ]\n",
    "    buff = buff.loc[(buff['f'] >= buff['f'].quantile(.8))].sample(1)\n",
    "    text.append(buff['third_word'].iloc[0])\n",
    "    i = i+1\n",
    "    if text[-2:] == [\"<s/>\" ,\"<s/>\"]:\n",
    "        sentence_finished = True\n",
    "    if i == 100:\n",
    "        sentence_finished = True\n",
    "print (' '.join([t for t in text if t]))    "
   ]
  },
  {
   "cell_type": "code",
   "execution_count": null,
   "metadata": {},
   "outputs": [],
   "source": []
  }
 ],
 "metadata": {
  "kernelspec": {
   "display_name": "Python 3",
   "language": "python",
   "name": "python3"
  },
  "language_info": {
   "codemirror_mode": {
    "name": "ipython",
    "version": 3
   },
   "file_extension": ".py",
   "mimetype": "text/x-python",
   "name": "python",
   "nbconvert_exporter": "python",
   "pygments_lexer": "ipython3",
   "version": "3.7.3"
  }
 },
 "nbformat": 4,
 "nbformat_minor": 2
}
