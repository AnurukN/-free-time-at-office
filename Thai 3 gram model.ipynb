{
 "cells": [
  {
   "cell_type": "markdown",
   "metadata": {},
   "source": [
    "# Thai National Corpus 3gram dataset.\n",
    "\n",
    "The link of the data source you can get here. \n",
    "http://www.arts.chula.ac.th/ling/tnc/?smd_process_download=1&download_id=146"
   ]
  },
  {
   "cell_type": "code",
   "execution_count": 5,
   "metadata": {},
   "outputs": [],
   "source": [
    "import pandas as pd\n",
    "import numpy as np\n",
    "\n",
    "thai3gram = pd.read_csv('C:/Users/user.5CD8478FHW/Desktop/Test everything/201705_3gram.txt', sep='\\\\t', engine='python', names = ['first_word','second_word','third_word','f'])"
   ]
  },
  {
   "cell_type": "code",
   "execution_count": 6,
   "metadata": {},
   "outputs": [
    {
     "data": {
      "text/html": [
       "<div>\n",
       "<style scoped>\n",
       "    .dataframe tbody tr th:only-of-type {\n",
       "        vertical-align: middle;\n",
       "    }\n",
       "\n",
       "    .dataframe tbody tr th {\n",
       "        vertical-align: top;\n",
       "    }\n",
       "\n",
       "    .dataframe thead th {\n",
       "        text-align: right;\n",
       "    }\n",
       "</style>\n",
       "<table border=\"1\" class=\"dataframe\">\n",
       "  <thead>\n",
       "    <tr style=\"text-align: right;\">\n",
       "      <th></th>\n",
       "      <th>first_word</th>\n",
       "      <th>second_word</th>\n",
       "      <th>third_word</th>\n",
       "      <th>f</th>\n",
       "    </tr>\n",
       "  </thead>\n",
       "  <tbody>\n",
       "    <tr>\n",
       "      <th>0</th>\n",
       "      <td>&lt;s/&gt;</td>\n",
       "      <td>ๆ</td>\n",
       "      <td>&lt;s/&gt;</td>\n",
       "      <td>0.002055</td>\n",
       "    </tr>\n",
       "    <tr>\n",
       "      <th>1</th>\n",
       "      <td>&lt;s/&gt;</td>\n",
       "      <td>เช่น</td>\n",
       "      <td>&lt;s/&gt;</td>\n",
       "      <td>0.001020</td>\n",
       "    </tr>\n",
       "    <tr>\n",
       "      <th>2</th>\n",
       "      <td>&lt;s/&gt;</td>\n",
       "      <td>&lt;s/&gt;</td>\n",
       "      <td>&lt;s/&gt;</td>\n",
       "      <td>0.000850</td>\n",
       "    </tr>\n",
       "    <tr>\n",
       "      <th>3</th>\n",
       "      <td>ต่าง</td>\n",
       "      <td>ๆ</td>\n",
       "      <td>&lt;s/&gt;</td>\n",
       "      <td>0.000687</td>\n",
       "    </tr>\n",
       "    <tr>\n",
       "      <th>4</th>\n",
       "      <td>&lt;s/&gt;</td>\n",
       "      <td>คือ</td>\n",
       "      <td>&lt;s/&gt;</td>\n",
       "      <td>0.000630</td>\n",
       "    </tr>\n",
       "    <tr>\n",
       "      <th>5</th>\n",
       "      <td>&lt;s/&gt;</td>\n",
       "      <td>และ</td>\n",
       "      <td>&lt;s/&gt;</td>\n",
       "      <td>0.000554</td>\n",
       "    </tr>\n",
       "    <tr>\n",
       "      <th>6</th>\n",
       "      <td>&lt;s/&gt;</td>\n",
       "      <td>ปี</td>\n",
       "      <td>&lt;s/&gt;</td>\n",
       "      <td>0.000503</td>\n",
       "    </tr>\n",
       "    <tr>\n",
       "      <th>7</th>\n",
       "      <td>ไม่</td>\n",
       "      <td>ได้</td>\n",
       "      <td>&lt;s/&gt;</td>\n",
       "      <td>0.000488</td>\n",
       "    </tr>\n",
       "    <tr>\n",
       "      <th>8</th>\n",
       "      <td>ต่าง</td>\n",
       "      <td>&lt;s/&gt;</td>\n",
       "      <td>ๆ</td>\n",
       "      <td>0.000483</td>\n",
       "    </tr>\n",
       "    <tr>\n",
       "      <th>9</th>\n",
       "      <td>&lt;s/&gt;</td>\n",
       "      <td>พ.ศ.</td>\n",
       "      <td>&lt;s/&gt;</td>\n",
       "      <td>0.000451</td>\n",
       "    </tr>\n",
       "  </tbody>\n",
       "</table>\n",
       "</div>"
      ],
      "text/plain": [
       "  first_word second_word third_word         f\n",
       "0       <s/>           ๆ       <s/>  0.002055\n",
       "1       <s/>        เช่น       <s/>  0.001020\n",
       "2       <s/>        <s/>       <s/>  0.000850\n",
       "3       ต่าง           ๆ       <s/>  0.000687\n",
       "4       <s/>         คือ       <s/>  0.000630\n",
       "5       <s/>         และ       <s/>  0.000554\n",
       "6       <s/>          ปี       <s/>  0.000503\n",
       "7        ไม่         ได้       <s/>  0.000488\n",
       "8       ต่าง        <s/>          ๆ  0.000483\n",
       "9       <s/>        พ.ศ.       <s/>  0.000451"
      ]
     },
     "execution_count": 6,
     "metadata": {},
     "output_type": "execute_result"
    }
   ],
   "source": [
    "thai3gram['f'] = thai3gram['f']/thai3gram.f.sum()\n",
    "thai3gram.head(10)"
   ]
  },
  {
   "cell_type": "markdown",
   "metadata": {},
   "source": [
    "__Random generate sentence.__"
   ]
  },
  {
   "cell_type": "code",
   "execution_count": 46,
   "metadata": {},
   "outputs": [],
   "source": [
    "import random\n",
    "\n",
    "def gen_sentence(text,threshold = 0.5):\n",
    "    try:\n",
    "        if threshold > 1:\n",
    "            raise Exception('Threshold should not exceed 1. The value of threshold was: {}'.format(threshold))\n",
    "        i= 0\n",
    "        r= random.randint(1, 100)\n",
    "        sentence_finished = False\n",
    "        while not sentence_finished:\n",
    "            # select a random probability threshold  \n",
    "            buff = thai3gram.loc[(thai3gram['first_word'] == text[i]) & (thai3gram['second_word'] == text[i+1]) ]\n",
    "            buff = buff.loc[(buff['f'] >= buff['f'].quantile(threshold))].sample(1)\n",
    "            text.append(buff['third_word'].iloc[0])\n",
    "            i = i+1\n",
    "            if text[-2:] == [\"<s/>\" ,\"<s/>\"]:\n",
    "                sentence_finished = True\n",
    "            if i == r:\n",
    "                sentence_finished = True\n",
    "        print('Seed_bounded = ',r)\n",
    "        sentence = ' '.join([t for t in text if t]).replace('<s/>', '')\n",
    "        print ( sentence)\n",
    "    except ValueError:\n",
    "        print(\"Oops! Try again...\")"
   ]
  },
  {
   "cell_type": "markdown",
   "metadata": {},
   "source": [
    "__Example__"
   ]
  },
  {
   "cell_type": "code",
   "execution_count": 48,
   "metadata": {},
   "outputs": [
    {
     "name": "stdout",
     "output_type": "stream",
     "text": [
      "Seed_bounded =  11\n",
      "ช่วง การ ปกครอง ของ สเปน ใน อาณานิคม ละตินอเมริกา  ซึ่ง ต่อมา เปลี่ยน ชื่อ\n"
     ]
    }
   ],
   "source": [
    "# starting words\n",
    "text = [\"ช่วง\", \"การ\"]\n",
    "gen_sentence(text,0.9)"
   ]
  },
  {
   "cell_type": "code",
   "execution_count": 92,
   "metadata": {},
   "outputs": [
    {
     "name": "stdout",
     "output_type": "stream",
     "text": [
      "Seed_bounded =  61\n",
      "ช่วง การ ทำ อาหาร ให้ ครบ ทั้ง สาม คน ที่  ธปท. มี การ  กระทรวง ศึกษาธิการ ว่า ด้วย วิธี นี้ เป็น เวลา หนึ่ง ปี  ได้รับ แจ้ง  หรือ ทาง ใจ ของ ตน  ส่วน พ่อ ของ คุณ น่ะ สิ คะ  ก็ แปล ว่า คน นี้ คือ ที่ บ้าน มี คน เห็น  เธอ มา หา เพื่อน คน หนึ่ง กล่าว ว่า\n"
     ]
    }
   ],
   "source": [
    "# starting words\n",
    "text = [\"ช่วง\", \"การ\"]\n",
    "gen_sentence(text,0.9)"
   ]
  },
  {
   "cell_type": "code",
   "execution_count": 90,
   "metadata": {},
   "outputs": [
    {
     "name": "stdout",
     "output_type": "stream",
     "text": [
      "Seed_bounded =  66\n",
      "ช่วง การ ใช้ ชักโครก  \n"
     ]
    }
   ],
   "source": [
    "# starting words\n",
    "text = [\"ช่วง\", \"การ\"]\n",
    "gen_sentence(text,0.1)"
   ]
  },
  {
   "cell_type": "markdown",
   "metadata": {},
   "source": [
    "__Predict next words__"
   ]
  },
  {
   "cell_type": "code",
   "execution_count": 93,
   "metadata": {},
   "outputs": [],
   "source": [
    "def next_word(text):\n",
    "    try:\n",
    "        i= 0\n",
    "        r= 2\n",
    "        threshold = 0.5\n",
    "        sentence_finished = False\n",
    "        while not sentence_finished:\n",
    "            # select a random probability threshold  \n",
    "            buff = thai3gram.loc[(thai3gram['first_word'] == text[i]) & (thai3gram['second_word'] == text[i+1]) ]\n",
    "            buff = buff.loc[(buff['f'] >= buff['f'].quantile(threshold))].sample(1)\n",
    "            text.append(buff['third_word'].iloc[0])\n",
    "            i = i+1\n",
    "            if text[-2:] == [\"<s/>\" ,\"<s/>\"]:\n",
    "                sentence_finished = True\n",
    "            if i == r:\n",
    "                sentence_finished = True\n",
    "    except ValueError:\n",
    "        print(\"Oops!  That was no valid text.  Try again...\")\n",
    "    return text"
   ]
  },
  {
   "cell_type": "markdown",
   "metadata": {},
   "source": [
    "__Example__"
   ]
  },
  {
   "cell_type": "code",
   "execution_count": 94,
   "metadata": {},
   "outputs": [
    {
     "data": {
      "text/plain": [
       "['พ่อ', 'มึง', 'ก็', 'จะ']"
      ]
     },
     "execution_count": 94,
     "metadata": {},
     "output_type": "execute_result"
    }
   ],
   "source": [
    "text = [\"พ่อ\", \"มึง\"]\n",
    "next_word(text)"
   ]
  },
  {
   "cell_type": "code",
   "execution_count": 95,
   "metadata": {},
   "outputs": [
    {
     "data": {
      "text/plain": [
       "['พ่อ', 'มึง', 'จะ', 'ให้']"
      ]
     },
     "execution_count": 95,
     "metadata": {},
     "output_type": "execute_result"
    }
   ],
   "source": [
    "text = [\"พ่อ\", \"มึง\"]\n",
    "next_word(text)"
   ]
  },
  {
   "cell_type": "code",
   "execution_count": 96,
   "metadata": {},
   "outputs": [
    {
     "data": {
      "text/plain": [
       "['พ่อ', 'มึง', 'นกเขา', 'ไม่']"
      ]
     },
     "execution_count": 96,
     "metadata": {},
     "output_type": "execute_result"
    }
   ],
   "source": [
    "text = [\"พ่อ\", \"มึง\"]\n",
    "next_word(text)"
   ]
  }
 ],
 "metadata": {
  "kernelspec": {
   "display_name": "Python 3",
   "language": "python",
   "name": "python3"
  },
  "language_info": {
   "codemirror_mode": {
    "name": "ipython",
    "version": 3
   },
   "file_extension": ".py",
   "mimetype": "text/x-python",
   "name": "python",
   "nbconvert_exporter": "python",
   "pygments_lexer": "ipython3",
   "version": "3.7.3"
  }
 },
 "nbformat": 4,
 "nbformat_minor": 2
}
